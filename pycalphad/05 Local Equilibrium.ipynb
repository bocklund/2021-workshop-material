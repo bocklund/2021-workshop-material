{
 "cells": [
  {
   "cell_type": "code",
   "execution_count": 1,
   "id": "b5ed2f75-c6ec-481b-8717-706c5b8d7066",
   "metadata": {},
   "outputs": [],
   "source": [
    "from pycalphad import Database, variables as v\n",
    "from localeq import composition_set, local_equilibrium\n",
    "import numpy as np\n",
    "from collections import defaultdict"
   ]
  },
  {
   "cell_type": "code",
   "execution_count": 2,
   "id": "f4d50c2d-a95f-4ffa-ab99-bf9b6cef7cd2",
   "metadata": {},
   "outputs": [
    {
     "name": "stderr",
     "output_type": "stream",
     "text": [
      "/opt/conda/lib/python3.9/site-packages/pycalphad/io/tdb.py:974: UserWarning: The type definition character `%` was defined in the following phases: ['LIQUID', 'FCC_A1', 'BCC_A2', 'H_BCC', 'BCC_DISL', 'HCP_A3', 'ALPHA_MN', 'BETA_MN', 'BETA_RHOMBO_B', 'DIAMOND_A4', 'GRAPHITE', 'BCC_B2', 'CHI_A12', 'CO3MO', 'CO3V', 'COV3', 'CR3MN5', 'G_PHASE', 'LAVES_PHASE', 'MNNI', 'MNNI2', 'MNNI_T3', 'MU_PHASE', 'MU_PHASE_I', 'ETA', 'NITI2', 'PI_PHASE', 'R_PHASE', 'SIGMA', 'FE17Y2', 'NI5Y', 'PDFE_L12', 'PDMN_AF', 'PDMN_P', 'PDMN_B2', 'PD2MN', 'PD3MN', 'PD5MN3', 'PD6FE5MN2', 'CEMENTITE', 'CR2VC2', 'K_CARB', 'KSI_CARBIDE', 'M3C2', 'M6C', 'M7C3', 'M12C', 'M23C6', 'MOC_ETA', 'V3C2', 'WC', 'EPS_CARB', 'ETA_CARB', 'FE24C10', 'KSI_FE5C2', 'ALN', 'ALN_EQU', 'BN_HP4', 'CR3NI2SIN', 'FE4N', 'MN6N4', 'MN6N5', 'MNSIN2', 'SI3N4', 'ZET', 'CRB', 'CR2B', 'CR5B3', 'FEB', 'FENBB', 'FE3NB3B4', 'M2B', 'MNB2', 'MNB4', 'O_MN2B', 'MN3B4', 'MOB', 'MOB2', 'MO2M1B2', 'NBB', 'NB3B2', 'M5B6', 'TIB', 'TIB2', 'TI3B4', 'A_CHALC', 'ANILITE', 'B_CHALC', 'COVELLITE', 'CU2S', 'DIGENITE', 'DISULF', 'DJURLEITE', 'FC_MONO', 'FC_ORTHO', 'FES_P', 'MNS_Q', 'PYRR', 'TIS', 'TI4C2S2', 'CORUND', 'HALITE', 'HF1O2_M', 'HF1O2_T', 'HF1O2_C', 'LA2O3_A', 'LA2O3_H', 'LA2O3_C', 'SIO2', 'SPINEL', 'TIO2', 'TI2O3', 'TRID', 'Y2O3_C', 'Y2O3_H', 'YALO3', 'Y4AL2O9', 'Y2TIO5', 'Y2TI2O7', 'O1_GAS', 'M2P', 'M3P'], but no corresponding TYPE_DEFINITION line was found in the TDB.\n",
      "  warnings.warn(f\"The type definition character `{typechar}` was defined in the following phases: \"\n"
     ]
    }
   ],
   "source": [
    "dbf = Database('databases/mc_fe_v2.059.pycalphad.tdb')"
   ]
  },
  {
   "cell_type": "markdown",
   "id": "4123269b-0bc7-48d9-a580-34f5990fb947",
   "metadata": {},
   "source": [
    "# T0 Computation\n",
    "The T0 (or T-zero) temperature is a thermodynamic quantity defined by an equality of the molar Gibbs energies of two different phases. T0 is relevant to the design of heat treatments for some alloys because, below the T0 temperature, so-called 'massive' transformation kinetics become active and may dominate the observed evolution of the microstructure. Massive transformations are diffusionless and can occur very rapidly, with no transformation barrier."
   ]
  },
  {
   "cell_type": "code",
   "execution_count": 3,
   "id": "7eac42e6-49a1-4cd6-b817-1831c4c1a786",
   "metadata": {},
   "outputs": [],
   "source": [
    "comps = ['FE', 'MN', 'VA']\n",
    "\n",
    "state_variables = {v.N: 1, v.P: 1e5, v.T: 300}\n",
    "\n",
    "fcc_composition_sets = [\n",
    "                    composition_set(dbf, comps, 'FCC_A1',\n",
    "                                    {**state_variables},\n",
    "                                    phase_amt=1,\n",
    "                                   ),  \n",
    "                   ]\n",
    "bcc_composition_sets = [\n",
    "                    composition_set(dbf, comps, 'BCC_A2',\n",
    "                                    {**state_variables},\n",
    "                                    phase_amt=1,\n",
    "                                   ),  \n",
    "                   ]\n",
    "x = []\n",
    "y = defaultdict(lambda: [])\n",
    "for temperature in np.arange(300., 2000.):\n",
    "    state_variables[v.T] = temperature\n",
    "    for compset in fcc_composition_sets:\n",
    "        compset.dof[2] = temperature\n",
    "        compset.update(compset.dof[2:], compset.NP, compset.dof[:2])\n",
    "    for compset in bcc_composition_sets:\n",
    "        compset.dof[2] = temperature\n",
    "        compset.update(compset.dof[2:], compset.NP, compset.dof[:2])\n",
    "    result_fcc, composition_sets = local_equilibrium(fcc_composition_sets, comps, {**state_variables, v.X('MN'): 0.1})\n",
    "    result_bcc, composition_sets = local_equilibrium(bcc_composition_sets, comps, {**state_variables, v.X('MN'): 0.1})\n",
    "\n",
    "    if not result_fcc.converged:\n",
    "        print(temperature)\n",
    "        raise ValueError('Convergence failure')\n",
    "    if not result_bcc.converged:\n",
    "        print(temperature)\n",
    "        raise ValueError('Convergence failure')\n",
    "    x.append(result_fcc.x[2])\n",
    "    for compset in fcc_composition_sets:\n",
    "        y[compset.phase_record.phase_name].append(float(compset.energy))\n",
    "    for compset in bcc_composition_sets:\n",
    "        y[compset.phase_record.phase_name].append(float(compset.energy))"
   ]
  },
  {
   "cell_type": "code",
   "execution_count": 4,
   "id": "84001d67-d4c4-41f1-9704-ec0730fbd09d",
   "metadata": {},
   "outputs": [
    {
     "data": {
      "text/plain": [
       "(300.0, 2000.0)"
      ]
     },
     "execution_count": 4,
     "metadata": {},
     "output_type": "execute_result"
    },
    {
     "data": {
      "image/png": "[encoded data removed]",
      "text/plain": [
       "<Figure size 432x288 with 1 Axes>"
      ]
     },
     "metadata": {
      "needs_background": "light"
     },
     "output_type": "display_data"
    }
   ],
   "source": [
    "%matplotlib inline\n",
    "import matplotlib.pyplot as plt\n",
    "from pycalphad.plot.utils import phase_legend\n",
    "stable_phases = ['FCC_A1', 'BCC_A2']\n",
    "\n",
    "energy_diff = np.array(y['FCC_A1']) - np.array(y['BCC_A2'])\n",
    "sign_change_idx = np.where(np.diff(np.sign(energy_diff)) != 0)[0] + 1\n",
    "sign_change_temps = np.array(x)[sign_change_idx]\n",
    "\n",
    "plt.plot(x, energy_diff)\n",
    "plt.scatter(sign_change_temps, np.zeros_like(sign_change_temps), c='r', zorder=3)\n",
    "plt.ylabel('Gibbs Energy Difference (J/mol-atom)')\n",
    "plt.xlabel('Temperature (K)')\n",
    "plt.xlim(300, 2000)"
   ]
  },
  {
   "cell_type": "code",
   "execution_count": 5,
   "id": "2d32032a-a93d-440c-a7e3-89b4df49ce11",
   "metadata": {},
   "outputs": [
    {
     "name": "stdout",
     "output_type": "stream",
     "text": [
      "FCC->BCC T0 Temperature:  812.0 K (538.85 deg C)\n"
     ]
    }
   ],
   "source": [
    "print('FCC->BCC T0 Temperature: ', sign_change_temps[0], 'K', f'({sign_change_temps[0]-273.15} deg C)')"
   ]
  },
  {
   "cell_type": "markdown",
   "id": "9f1f114a-b7e2-4e58-8e16-14fe338f4632",
   "metadata": {},
   "source": [
    "# Precipitation Reaction\n",
    "Note that the temperature corresponding to the onset of the corresponding precipitation reaction will always be greater than (or equal to) the T0 temperature. However, we may not always observe the precipitation reaction due to the slower, diffusion-controlled kinetics of the reaction. We can compute the onset of bcc stability by 'fixing' the bcc phase to be stable with zero amount."
   ]
  },
  {
   "cell_type": "code",
   "execution_count": 7,
   "id": "2c9325d7-dd49-4af4-ac6b-e5c4985732d0",
   "metadata": {},
   "outputs": [
    {
     "name": "stdout",
     "output_type": "stream",
     "text": [
      "Converged:  True\n",
      "Final Composition Sets:  [CompositionSet(BCC_A2, [0.97103345 0.02896655], NP=0.0, GM=-38348.08591047841), CompositionSet(FCC_A1, [0.9 0.1], NP=0.9999999999999997, GM=-40125.765220405025)]\n",
      "FCC-BCC Transus Temperature 925.2398175124108 K (652 deg C)\n"
     ]
    }
   ],
   "source": [
    "comps = ['FE', 'MN', 'VA']\n",
    "\n",
    "state_variables = {v.N: 1, v.P: 1e5}\n",
    "\n",
    "composition_sets = [\n",
    "                    composition_set(dbf, comps, 'BCC_A2',\n",
    "                                    {**state_variables, v.T: 300},\n",
    "                                    fixed=True, phase_amt=0,\n",
    "                                   ),\n",
    "                    composition_set(dbf, comps, 'FCC_A1',\n",
    "                                    {**state_variables, v.T: 300},\n",
    "                                    fixed=False, phase_amt=1,\n",
    "                                   ),  \n",
    "                   ]\n",
    "\n",
    "result, composition_sets = local_equilibrium(composition_sets, comps, {**state_variables, v.X('MN'): 0.1})\n",
    "print('Converged: ', result.converged)\n",
    "print('Final Composition Sets: ', composition_sets)\n",
    "print('FCC-BCC Transus Temperature', result.x[2], 'K', f'({int(result.x[2]-273.15)} deg C)')"
   ]
  },
  {
   "cell_type": "code",
   "execution_count": null,
   "id": "42c4ce3d-777c-4da5-9c02-6b8c74144c80",
   "metadata": {},
   "outputs": [],
   "source": []
  }
 ],
 "metadata": {
  "kernelspec": {
   "display_name": "Python 3",
   "language": "python",
   "name": "python3"
  },
  "language_info": {
   "codemirror_mode": {
    "name": "ipython",
    "version": 3
   },
   "file_extension": ".py",
   "mimetype": "text/x-python",
   "name": "python",
   "nbconvert_exporter": "python",
   "pygments_lexer": "ipython3",
   "version": "3.9.5"
  }
 },
 "nbformat": 4,
 "nbformat_minor": 5
}
