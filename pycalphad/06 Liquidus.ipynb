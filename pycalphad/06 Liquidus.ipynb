{
 "cells": [
  {
   "cell_type": "code",
   "execution_count": 1,
   "id": "b5ed2f75-c6ec-481b-8717-706c5b8d7066",
   "metadata": {},
   "outputs": [],
   "source": [
    "from pycalphad import Database, variables as v\n",
    "from localeq import composition_set, local_equilibrium\n",
    "import numpy as np"
   ]
  },
  {
   "cell_type": "code",
   "execution_count": 2,
   "id": "f4d50c2d-a95f-4ffa-ab99-bf9b6cef7cd2",
   "metadata": {},
   "outputs": [
    {
     "name": "stderr",
     "output_type": "stream",
     "text": [
      "/opt/conda/lib/python3.9/site-packages/pycalphad/io/tdb.py:974: UserWarning: The type definition character `%` was defined in the following phases: ['LIQUID', 'FCC_A1', 'BCC_A2', 'H_BCC', 'BCC_DISL', 'HCP_A3', 'ALPHA_MN', 'BETA_MN', 'BETA_RHOMBO_B', 'DIAMOND_A4', 'GRAPHITE', 'BCC_B2', 'CHI_A12', 'CO3MO', 'CO3V', 'COV3', 'CR3MN5', 'G_PHASE', 'LAVES_PHASE', 'MNNI', 'MNNI2', 'MNNI_T3', 'MU_PHASE', 'MU_PHASE_I', 'ETA', 'NITI2', 'PI_PHASE', 'R_PHASE', 'SIGMA', 'FE17Y2', 'NI5Y', 'PDFE_L12', 'PDMN_AF', 'PDMN_P', 'PDMN_B2', 'PD2MN', 'PD3MN', 'PD5MN3', 'PD6FE5MN2', 'CEMENTITE', 'CR2VC2', 'K_CARB', 'KSI_CARBIDE', 'M3C2', 'M6C', 'M7C3', 'M12C', 'M23C6', 'MOC_ETA', 'V3C2', 'WC', 'EPS_CARB', 'ETA_CARB', 'FE24C10', 'KSI_FE5C2', 'ALN', 'ALN_EQU', 'BN_HP4', 'CR3NI2SIN', 'FE4N', 'MN6N4', 'MN6N5', 'MNSIN2', 'SI3N4', 'ZET', 'CRB', 'CR2B', 'CR5B3', 'FEB', 'FENBB', 'FE3NB3B4', 'M2B', 'MNB2', 'MNB4', 'O_MN2B', 'MN3B4', 'MOB', 'MOB2', 'MO2M1B2', 'NBB', 'NB3B2', 'M5B6', 'TIB', 'TIB2', 'TI3B4', 'A_CHALC', 'ANILITE', 'B_CHALC', 'COVELLITE', 'CU2S', 'DIGENITE', 'DISULF', 'DJURLEITE', 'FC_MONO', 'FC_ORTHO', 'FES_P', 'MNS_Q', 'PYRR', 'TIS', 'TI4C2S2', 'CORUND', 'HALITE', 'HF1O2_M', 'HF1O2_T', 'HF1O2_C', 'LA2O3_A', 'LA2O3_H', 'LA2O3_C', 'SIO2', 'SPINEL', 'TIO2', 'TI2O3', 'TRID', 'Y2O3_C', 'Y2O3_H', 'YALO3', 'Y4AL2O9', 'Y2TIO5', 'Y2TI2O7', 'O1_GAS', 'M2P', 'M3P'], but no corresponding TYPE_DEFINITION line was found in the TDB.\n",
      "  warnings.warn(f\"The type definition character `{typechar}` was defined in the following phases: \"\n"
     ]
    }
   ],
   "source": [
    "dbf = Database('databases/mc_fe_v2.059.pycalphad.tdb')"
   ]
  },
  {
   "cell_type": "markdown",
   "id": "4123269b-0bc7-48d9-a580-34f5990fb947",
   "metadata": {},
   "source": [
    "# Liquidus Temperature\n",
    "The liquidus temperature is a thermodynamic quantity which is defined to exist at the onset of liquid formation. The liquidus temperature is a strong function of temperature in most alloys. We can compute the liquidus temperature by \"fixing\" the liquid phase to be stable with zero amount. This ensures the liquid phase will be on the minimum-energy hyperplane for any converged solution. We then use the energy minimizer to find a temperature which satisfies all the constraints. Note that, in general, there may be multiple (or zero) solutions to a fixed-phase condition, and they tend to be sensitive to choice of starting point."
   ]
  },
  {
   "cell_type": "code",
   "execution_count": 12,
   "id": "7eac42e6-49a1-4cd6-b817-1831c4c1a786",
   "metadata": {},
   "outputs": [
    {
     "name": "stdout",
     "output_type": "stream",
     "text": [
      "Converged:  True\n",
      "Final Composition Sets:  [CompositionSet(LIQUID, [0.87133805 0.12866195], NP=0.0, GM=-109221.56436685752), CompositionSet(BCC_A2, [0.9 0.1], NP=1.0000000000000002, GM=-108033.87636118538)]\n",
      "Final Temperature 1746.9684765745624 K (1473 deg C)\n"
     ]
    }
   ],
   "source": [
    "comps = ['FE', 'MN', 'VA']\n",
    "\n",
    "state_variables = {v.N: 1, v.P: 1e5}\n",
    "\n",
    "composition_sets = [\n",
    "                    composition_set(dbf, comps, 'LIQUID',\n",
    "                                    {**state_variables, v.T: 1000},\n",
    "                                    fixed=True, phase_amt=0,\n",
    "                                   ),\n",
    "                    composition_set(dbf, comps, 'BCC_A2',\n",
    "                                    {**state_variables, v.T: 1000}, phase_amt=1,\n",
    "                                   ),  \n",
    "                   ]\n",
    "\n",
    "result, composition_sets = local_equilibrium(composition_sets, comps, {**state_variables, v.X('MN'): 0.1})\n",
    "print('Converged: ', result.converged)\n",
    "print('Final Composition Sets: ', composition_sets)\n",
    "print('Final Temperature', result.x[2], 'K', f'({int(result.x[2]-273.15)} deg C)')"
   ]
  },
  {
   "cell_type": "code",
   "execution_count": null,
   "id": "2c9325d7-dd49-4af4-ac6b-e5c4985732d0",
   "metadata": {},
   "outputs": [],
   "source": []
  }
 ],
 "metadata": {
  "kernelspec": {
   "display_name": "Python 3",
   "language": "python",
   "name": "python3"
  },
  "language_info": {
   "codemirror_mode": {
    "name": "ipython",
    "version": 3
   },
   "file_extension": ".py",
   "mimetype": "text/x-python",
   "name": "python",
   "nbconvert_exporter": "python",
   "pygments_lexer": "ipython3",
   "version": "3.9.5"
  }
 },
 "nbformat": 4,
 "nbformat_minor": 5
}
